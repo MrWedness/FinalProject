{
  "nbformat": 4,
  "nbformat_minor": 0,
  "metadata": {
    "colab": {
      "provenance": []
    },
    "kernelspec": {
      "name": "python3",
      "display_name": "Python 3"
    },
    "language_info": {
      "name": "python"
    }
  },
  "cells": [
    {
      "cell_type": "code",
      "execution_count": null,
      "metadata": {
        "id": "hGY8IrgUDTFV"
      },
      "outputs": [],
      "source": [
        "from collections import deque\n",
        "\n",
        "import numpy as np\n",
        "\n",
        "import torch"
      ]
    },
    {
      "cell_type": "code",
      "source": [
        "class Agent:\n",
        "  def __init__(self):\n",
        "    pass\n",
        "  def get_state():\n",
        "    pass\n",
        "  def remember(self, state, action, reward, next_state, done): #It's likelu we will need to change this {done} to be something which is linked to my project like the final token or something\n",
        "    pass\n",
        "  def train_long_memory(self):\n",
        "    pass\n",
        "  def train_short_memory(self):\n",
        "    pass\n",
        "  def get_action(self, state):\n",
        "    pass\n",
        "  def train():\n",
        "    pass"
      ],
      "metadata": {
        "id": "jrxxBMl1Dy_s"
      },
      "execution_count": null,
      "outputs": []
    }
  ]
}